{
 "cells": [
  {
   "cell_type": "code",
   "execution_count": 11,
   "metadata": {},
   "outputs": [
    {
     "name": "stdout",
     "output_type": "stream",
     "text": [
      "area of football field: 4489.60\n"
     ]
    }
   ],
   "source": [
    "long = 92 \n",
    "wide = 48.8\n",
    "area = long * wide\n",
    "print(f\"area of football field: {area:.2f}\")"
   ]
  },
  {
   "cell_type": "code",
   "execution_count": 12,
   "metadata": {},
   "outputs": [
    {
     "name": "stdout",
     "output_type": "stream",
     "text": [
      "Cash back: 6.59\n"
     ]
    }
   ],
   "source": [
    "price = 1.49\n",
    "amount = 9\n",
    "cash = 20\n",
    "change = cash - (price * amount)\n",
    "print(\"Cash back:\", change)"
   ]
  },
  {
   "cell_type": "code",
   "execution_count": 10,
   "metadata": {},
   "outputs": [
    {
     "name": "stdout",
     "output_type": "stream",
     "text": [
      "total cost for bathroom tiles replacement 15125.0\n"
     ]
    }
   ],
   "source": [
    "feet = 5.5\n",
    "area = pow(feet, 2)\n",
    "cost = area * 500\n",
    "\n",
    "\n",
    "print(f'total cost for bathroom tiles replacement {cost}')"
   ]
  },
  {
   "cell_type": "code",
   "execution_count": 13,
   "metadata": {},
   "outputs": [
    {
     "name": "stdout",
     "output_type": "stream",
     "text": [
      "Binary of number 17 is: 10001\n"
     ]
    }
   ],
   "source": [
    "num = 17\n",
    "print('Binary of number 17 is:',format(num,'b'))"
   ]
  }
 ],
 "metadata": {
  "kernelspec": {
   "display_name": "Python 3",
   "language": "python",
   "name": "python3"
  },
  "language_info": {
   "codemirror_mode": {
    "name": "ipython",
    "version": 3
   },
   "file_extension": ".py",
   "mimetype": "text/x-python",
   "name": "python",
   "nbconvert_exporter": "python",
   "pygments_lexer": "ipython3",
   "version": "3.12.1"
  }
 },
 "nbformat": 4,
 "nbformat_minor": 2
}
